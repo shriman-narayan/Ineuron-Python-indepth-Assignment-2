{
 "cells": [
  {
   "cell_type": "code",
   "execution_count": null,
   "metadata": {},
   "outputs": [],
   "source": [
    "    #############    ###########    Assignment 2    ##############    ##############     ############"
   ]
  },
  {
   "cell_type": "raw",
   "metadata": {},
   "source": [
    "  *  Task - 1\n",
    "    \n",
    "(1.1)  Write a Python Program to implement your own myreduce() function which works exactly like\n",
    "           Python's built-in function reduce()"
   ]
  },
  {
   "cell_type": "code",
   "execution_count": null,
   "metadata": {},
   "outputs": [],
   "source": [
    "(1.2)  Write a Python program to implement your own myfilter() function which works exactly like\n",
    "          Python built-in function filter."
   ]
  },
  {
   "cell_type": "code",
   "execution_count": null,
   "metadata": {},
   "outputs": [],
   "source": []
  },
  {
   "cell_type": "code",
   "execution_count": null,
   "metadata": {},
   "outputs": [],
   "source": [
    "(2.)  Implement List comprehensions to produce the following lists\n",
    "\n",
    "  =>  Write List comprehensions to produce the following Lists\n",
    "    \n",
    "      (a)     ['A', 'C', 'A', 'D', 'G', 'I', ’L’, ‘ D’]\n",
    "        \n",
    "      (b)   ['x', 'xx', 'xxx', 'xxxx', 'y', 'yy', 'yyy', 'yyyy', 'z', 'zz', 'zzz', 'zzzz']\n",
    "    \n",
    "      (c)     ['x', 'y', 'z', 'xx', 'yy', 'zz', 'xx', 'yy', 'zz', 'xxxx', 'yyyy', 'zzzz']\n",
    "        \n",
    "      (d)   [[2], [3], [4], [3], [4], [5], [4], [5], [6]]\n",
    "\n",
    "      (e)     [[2, 3, 4, 5], [3, 4, 5, 6], [4, 5, 6, 7], [5, 6, 7, 8]]\n",
    "\n",
    "      (f)   [(1, 1), (2, 1), (3, 1), (1, 2), (2, 2), (3, 2), (1, 3), (2, 3), (3, 3)]"
   ]
  },
  {
   "cell_type": "code",
   "execution_count": null,
   "metadata": {},
   "outputs": [],
   "source": [
    "#  Python program to implement List - Comprehensions\n",
    "\n",
    "# Creating list ->  ['A', 'C', 'A', 'D', 'G', 'I', 'L', 'D']\n",
    "\n",
    "list1 = [i for i in 'ACADGILD']\n",
    "\n",
    "print (\" List 1 is : \", list1)\n",
    "\n"
   ]
  },
  {
   "cell_type": "code",
   "execution_count": null,
   "metadata": {},
   "outputs": [],
   "source": [
    " (3)  Implement a function longestWord() that takes a list of words and returns the longest one."
   ]
  },
  {
   "cell_type": "code",
   "execution_count": null,
   "metadata": {},
   "outputs": [],
   "source": [
    "# Python code to  make a longest word by taking elements of a list\n",
    "# Defining a function\n",
    "\n",
    "def longestWord(x):\n",
    "    \n",
    "    longest_word = ''\n",
    "    return (longest_word.join(x))\n",
    "        \n",
    "#  Driver code\n",
    "list = ['beautiful', 'computer', 'programming', 'python', 'anaconda', 'vscode', 'pycharm']\n",
    "\n",
    "print(\" The longest word can be created by the words of a list is : \" longestWord(list))   \n",
    "\n",
    "    "
   ]
  },
  {
   "cell_type": "code",
   "execution_count": null,
   "metadata": {},
   "outputs": [],
   "source": [
    "# Python program to convert a list \n",
    "# to string using join() function \n",
    "\t\n",
    "# Function to convert \n",
    "def listToString(s): \n",
    "\t\n",
    "\t# initialize an empty string \n",
    "\tstr1 = \" \"\n",
    "\t\n",
    "\t# return string \n",
    "\treturn (str1.join(s)) \n",
    "\t\t\n",
    "\t\t\n",
    "# Driver code\t \n",
    "s = ['Geeks', 'for', 'Geeks'] \n",
    "print(listToString(s)) \n"
   ]
  },
  {
   "cell_type": "code",
   "execution_count": null,
   "metadata": {},
   "outputs": [],
   "source": [
    "    Task 2:1.\n",
    "    \n",
    " (1)  Write a Python Program(with class concepts) to find the area of the triangle using the below formula.\n",
    "       \n",
    "       area = (s*(s-a)*(s-b)*(s-c)) ** 0.5\n",
    "        \n",
    "      Function to take the length of the sides of triangle from user should be defined in the parentclass \n",
    "         and function to calculate the area should be defined in subclass."
   ]
  },
  {
   "cell_type": "code",
   "execution_count": null,
   "metadata": {},
   "outputs": [],
   "source": [
    "# Python program to find the area of triangle by using given Heron's formula.\n",
    "\n",
    "# Defining a Parent class for assigning sides of Triangles.\n",
    "class sides() :\n",
    "    \n",
    "    def __init__(self, a, b, c) :\n",
    "        \n",
    "        self.a = a\n",
    "        self.b = b\n",
    "        self.c = c\n",
    "\n",
    "#   Defining a new class for functions to find the area of triangle\n",
    "class area(sides) :\n",
    "    \n",
    "    def __init__(self, *args) :\n",
    "        \n",
    "        super(area, self).__init__(*args)\n",
    "    \n",
    "    def area(self, *args) :\n",
    "        \n",
    "        s = self.a + self.b + self.c\n",
    "        return (s*(s-self.a)*(s-self.b)*(s-self.c)) ** 0.5\n",
    "    \n",
    "#  driver code\n",
    "    \n",
    "a = area(1, 2, 3)  \n",
    "\n",
    "print (\"The Area of triangle is : \", a.area())\n",
    "\n",
    "\n"
   ]
  },
  {
   "cell_type": "code",
   "execution_count": null,
   "metadata": {},
   "outputs": [],
   "source": [
    "\n",
    "(1.2)  Write a function filter_long_words() that takes a list of words and an integer n and returns the list\n",
    "          of words that are longer than n.\n"
   ]
  },
  {
   "cell_type": "code",
   "execution_count": null,
   "metadata": {},
   "outputs": [],
   "source": [
    "#  Python program to filter a list of words longer than n\n",
    "\n",
    "old_list = ['fish', 'sudh', 'beautiful', 'river', 'computer', 'programming', 'python', 'anaconda', 'vscode', 'pycharm' ]\n",
    "\n",
    "# Defining a function for filtering the words\n",
    "\n",
    "def test(x):\n",
    "    \n",
    "    if len(x) > 5 :\n",
    "        return True\n",
    "    else :\n",
    "        return False\n",
    "\n",
    "# driver code    \n",
    "new_list = list(filter(test, old_list))\n",
    "\n",
    "print (\"The new list is \", new_list)\n"
   ]
  },
  {
   "cell_type": "code",
   "execution_count": null,
   "metadata": {},
   "outputs": [],
   "source": [
    " (2.1)  Write a Python program using function concept that maps list of words into a list of integers \n",
    "           representing the lengths of the corresponding words.\n",
    "        \n",
    "      Hint: If a list [ ab,cde,erty] is passed on to the python function output should come as [2,3,4]\n",
    "            Here 2,3 and 4 are the lengths of the words in the list"
   ]
  },
  {
   "cell_type": "code",
   "execution_count": null,
   "metadata": {},
   "outputs": [],
   "source": [
    "# Python code to use map() function \n",
    "#  Defining lists\n",
    "list_of_words = ['beautiful', 'computer', 'programming', 'python', 'anaconda', 'vscode', 'pycharm']\n",
    "print ('Words in the list are :', list_of_words)\n",
    "\n",
    "# defining a function\n",
    "def test(list):\n",
    "    \n",
    "    length_of_words = []\n",
    "    for i in list:\n",
    "        length_of_words.append(len(i))\n",
    "    \n",
    "    print('The length of words are - ', length_of_words)\n",
    "\n",
    "# driver code\n",
    "test(list_of_words)\n",
    "\n"
   ]
  },
  {
   "cell_type": "code",
   "execution_count": null,
   "metadata": {},
   "outputs": [],
   "source": [
    " (2.2)  Write a Python function which takes a character (i.e. a string of length 1) and returns True if it is\n",
    "           a vowel, False otherwise."
   ]
  },
  {
   "cell_type": "code",
   "execution_count": null,
   "metadata": {},
   "outputs": [],
   "source": [
    "# Python program to create a function and check if a letter is vowel or not.\n",
    "\n",
    "vowels = ['A', 'a','E', 'e','I', 'i','O', 'o','U', 'u']\n",
    " \n",
    "def isvowel(x) :\n",
    "    \n",
    "    if x in vowels:\n",
    "        return True\n",
    "    else:\n",
    "        return False\n",
    "\n",
    "\n",
    "# Driver code\n",
    "print(isvowel('G'))\n",
    "print(isvowel('i'))"
   ]
  },
  {
   "cell_type": "code",
   "execution_count": null,
   "metadata": {},
   "outputs": [],
   "source": []
  }
 ],
 "metadata": {
  "kernelspec": {
   "display_name": "Python 3",
   "language": "python",
   "name": "python3"
  },
  "language_info": {
   "codemirror_mode": {
    "name": "ipython",
    "version": 3
   },
   "file_extension": ".py",
   "mimetype": "text/x-python",
   "name": "python",
   "nbconvert_exporter": "python",
   "pygments_lexer": "ipython3",
   "version": "3.7.7"
  }
 },
 "nbformat": 4,
 "nbformat_minor": 4
}
